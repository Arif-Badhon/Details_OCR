{
 "cells": [
  {
   "cell_type": "markdown",
   "metadata": {},
   "source": [
    "### This notebook shows details power of tesseract OCR"
   ]
  },
  {
   "cell_type": "markdown",
   "metadata": {},
   "source": [
    "#### We will see how tesseract can do a lot of things from the image text"
   ]
  },
  {
   "cell_type": "markdown",
   "metadata": {},
   "source": [
    "<center>\n",
    "    <u><h2>Image Text Extraction With Pytesseract</h2></u>\n",
    "</center>"
   ]
  },
  {
   "cell_type": "markdown",
   "metadata": {},
   "source": [
    "<h3>What is the Tesseract?</h3>\n",
    "\n",
    "<p>Tesseract is an Optical Character Recognition tool (OCR) which can be used to extract written text from different types image files. This was originally designed and developed by the <b>Google</b>. Image text extraction can be used by both of the ways; using command terminal and api implementations. </p>\n",
    "\n",
    "<p>Tesseract has unicode (UTF-8) support and can recognize more than <b>100 languages</b>.</p>\n",
    "\n",
    "<p>Tesseract support various kind of output formats such as: <b>plain text</b>, <b>HTML</b>, <b>PDF</b>, <b>TSV</b>, <b>XML</b>.</p> \n",
    "\n",
    "<p>Accuracy and integrity of the output from tesseract is totally depends on the <u>quality of input image</u></p>\n",
    "\n",
    "<h3>How to install Tesseract?</h3>\n",
    "\n",
    "<ol>\n",
    "    <li>Download and install the relevant binary for your operating system <a href='https://github.com/tesseract-ocr/tessdoc#500x'>here.</a></li>\n",
    "    <li>Add the installed location reference in to the PATH. <b>eg. </b><i>C:\\Program Files\\Tesseract-OCR.</i></li>\n",
    "    <li>Type command <span style=\"background-color: lightblue;\">tesseract</span> and check about the status of your installation.</li>\n",
    "</ol>\n",
    "\n",
    "<h3>What is the Pytesseract?</h3>\n",
    "\n",
    "<p>Python tesseract (pytesseract) is a wrapper module for tesseract-OCR-engine developed by the Google. Pytesseract can be installed in to your computer, if you have installed any python version greater than or equal to 3.0. Whenever you have installed tesseract, simply install this 3<sup>rd</sup> party module by a simple pip command and play around!</p>\n",
    "\n",
    "<h3>How to install Pytesseract?</h3>\n",
    "\n",
    "<ol>\n",
    "    <li>Type command <span style=\"background-color: lightblue;\">pip install pytesseract</span> and let it to be installed.</li>\n",
    "    <li>Then open your python shell and type  <span style=\"background-color: lightblue;\">import pytesseract</span> and check about the status of pytesseract installation.</li>\n",
    "</ol>"
   ]
  },
  {
   "cell_type": "markdown",
   "metadata": {},
   "source": [
    "### Import Modules"
   ]
  },
  {
   "cell_type": "code",
   "execution_count": 4,
   "metadata": {},
   "outputs": [],
   "source": [
    "import os # To import test image files\n",
    "import cv2 # To work with opencv images\n",
    "from PIL import Image # Image submodule to work with pillow images\n",
    "import pytesseract as pt # pytesseract module"
   ]
  },
  {
   "cell_type": "markdown",
   "metadata": {},
   "source": [
    "#### After importing now we need to import data files"
   ]
  },
  {
   "cell_type": "code",
   "execution_count": 5,
   "metadata": {},
   "outputs": [
    {
     "name": "stdout",
     "output_type": "stream",
     "text": [
      "1.jpeg\n",
      "2.jpeg\n",
      "WhatsApp Image 2022-03-05 at 4.39.10 PM.jpeg\n",
      "WhatsApp Image 2022-03-05 at 4.39.11 PM.jpeg\n",
      "WhatsApp Image 2022-03-05 at 4.39.12 PM.jpeg\n",
      "WhatsApp Image 2022-03-05 at 4.39.13 PM.jpeg\n",
      "WhatsApp Image 2022-03-05 at 4.39.14 PM.jpeg\n",
      "WhatsApp Image 2022-03-05 at 4.39.15 PM.jpeg\n",
      "WhatsApp Image 2022-03-05 at 4.39.16 PM.jpeg\n",
      "WhatsApp Image 2022-03-05 at 4.39.19 PM.jpeg\n",
      "WhatsApp Image 2022-03-05 at 4.39.20 PM.jpeg\n",
      "WhatsApp Image 2022-03-05 at 4.39.21 PM.jpeg\n",
      "WhatsApp Image 2022-03-05 at 4.39.22 PM.jpeg\n",
      "WhatsApp Image 2022-03-05 at 4.46.18 PM.jpeg\n",
      "WhatsApp Image 2022-03-05 at 4.46.19 PM (1).jpeg\n",
      "WhatsApp Image 2022-03-05 at 4.46.19 PM.jpeg\n",
      "WhatsApp Image 2022-03-05 at 4.46.20 PM (1).jpeg\n",
      "WhatsApp Image 2022-03-05 at 4.46.20 PM (2).jpeg\n",
      "WhatsApp Image 2022-03-05 at 4.46.20 PM.jpeg\n",
      "WhatsApp Image 2022-03-05 at 4.46.21 PM (1).jpeg\n",
      "WhatsApp Image 2022-03-05 at 4.46.21 PM.jpeg\n",
      "WhatsApp Image 2022-03-05 at 4.46.23 PM.jpeg\n",
      "WhatsApp Image 2022-03-05 at 4.46.24 PM.jpeg\n",
      "WhatsApp Image 2022-03-05 at 4.46.13 PM.jpeg\n",
      "WhatsApp Image 2022-03-05 at 4.46.14 PM (1).jpeg\n",
      "WhatsApp Image 2022-03-05 at 4.46.14 PM (2).jpeg\n",
      "WhatsApp Image 2022-03-05 at 4.46.14 PM.jpeg\n",
      "WhatsApp Image 2022-03-05 at 4.46.15 PM (1).jpeg\n",
      "WhatsApp Image 2022-03-05 at 4.46.15 PM.jpeg\n",
      "WhatsApp Image 2022-03-05 at 4.46.16 PM (1).jpeg\n",
      "WhatsApp Image 2022-03-05 at 4.46.16 PM.jpeg\n",
      "WhatsApp Image 2022-03-05 at 4.46.17 PM (1).jpeg\n",
      "WhatsApp Image 2022-03-05 at 4.46.17 PM (2).jpeg\n",
      "WhatsApp Image 2022-03-05 at 4.39.24 PM.jpeg\n",
      "WhatsApp Image 2022-03-05 at 4.41.42 PM.jpeg\n",
      "WhatsApp Image 2022-03-05 at 4.46.08 PM.jpeg\n",
      "WhatsApp Image 2022-03-05 at 4.46.13 PM (2).jpeg\n",
      "WhatsApp Image 2022-03-05 at 4.46.17 PM.jpeg\n",
      "WhatsApp Image 2022-03-05 at 4.46.09 PM (1).jpeg\n",
      "WhatsApp Image 2022-03-05 at 4.46.09 PM.jpeg\n",
      "WhatsApp Image 2022-03-05 at 4.46.10 PM (1).jpeg\n",
      "WhatsApp Image 2022-03-05 at 4.46.10 PM.jpeg\n",
      "WhatsApp Image 2022-03-05 at 4.46.11 PM (1).jpeg\n",
      "WhatsApp Image 2022-03-05 at 4.46.11 PM (2).jpeg\n",
      "WhatsApp Image 2022-03-05 at 4.46.11 PM.jpeg\n",
      "WhatsApp Image 2022-03-05 at 4.46.12 PM (1).jpeg\n",
      "WhatsApp Image 2022-03-05 at 4.46.12 PM.jpeg\n",
      "WhatsApp Image 2022-03-05 at 4.46.13 PM (1).jpeg\n",
      "WhatsApp Image 2022-03-05 at 4.42.00 PM.jpeg\n",
      "WhatsApp Image 2022-03-05 at 4.42.01 PM.jpeg\n",
      "WhatsApp Image 2022-03-05 at 4.42.02 PM.jpeg\n",
      "WhatsApp Image 2022-03-05 at 4.42.03 PM.jpeg\n",
      "WhatsApp Image 2022-03-05 at 4.46.06 PM.jpeg\n",
      "WhatsApp Image 2022-03-05 at 4.46.07 PM (1).jpeg\n",
      "WhatsApp Image 2022-03-05 at 4.46.07 PM (2).jpeg\n",
      "WhatsApp Image 2022-03-05 at 4.46.07 PM.jpeg\n",
      "WhatsApp Image 2022-03-05 at 4.46.08 PM (1).jpeg\n",
      "WhatsApp Image 2022-03-05 at 4.46.08 PM (2).jpeg\n",
      "WhatsApp Image 2022-03-05 at 4.39.25 PM.jpeg\n",
      "WhatsApp Image 2022-03-05 at 4.39.26 PM.jpeg\n",
      "WhatsApp Image 2022-03-05 at 4.39.27 PM.jpeg\n",
      "WhatsApp Image 2022-03-05 at 4.39.28 PM.jpeg\n",
      "WhatsApp Image 2022-03-05 at 4.39.29 PM.jpeg\n",
      "WhatsApp Image 2022-03-05 at 4.39.31 PM.jpeg\n",
      "WhatsApp Image 2022-03-05 at 4.39.32 PM.jpeg\n",
      "WhatsApp Image 2022-03-05 at 4.39.33 PM.jpeg\n",
      "WhatsApp Image 2022-03-05 at 4.41.40 PM (1).jpeg\n",
      "WhatsApp Image 2022-03-05 at 4.41.40 PM.jpeg\n",
      "WhatsApp Image 2022-03-05 at 4.41.42 PM (1).jpeg\n"
     ]
    }
   ],
   "source": [
    "test_image_path = \"Images\"\n",
    "create_path = lambda f : os.path.join(test_image_path, f)\n",
    "test_image_files = os.listdir(test_image_path)\n",
    "for f in test_image_files:\n",
    "    print(f)\n"
   ]
  },
  {
   "cell_type": "code",
   "execution_count": 6,
   "metadata": {},
   "outputs": [],
   "source": [
    "# Function to show images\n",
    "def show_image(img_path, size=(500, 500)):\n",
    "    image = cv2.imread(img_path)\n",
    "    image = cv2.resize(image, size)\n",
    "    \n",
    "    cv2.imshow(\"IMAGE\", image)\n",
    "    cv2.waitKey(0)\n",
    "    cv2.destroyAllWindows()"
   ]
  },
  {
   "cell_type": "markdown",
   "metadata": {},
   "source": [
    "<u>\n",
    "<h4>Configure tesseract path in implementations (No need to add in to the PATH explicitly)</h4>\n",
    "</u>"
   ]
  },
  {
   "cell_type": "code",
   "execution_count": 7,
   "metadata": {},
   "outputs": [],
   "source": [
    "# optional: only if you haven't configured PATH\n",
    "pt.tesseract_cmd=r'/usr/bin/tesseract' # provide full path to tesseract.exe"
   ]
  },
  {
   "cell_type": "markdown",
   "metadata": {},
   "source": [
    "<u>\n",
    "<h4>Checkout available languages</h4>\n",
    "</u>\n",
    "<p>Check out <a href='https://tesseract-ocr.github.io/tessdoc/Data-Files-in-different-versions.html'>here</a> to learn about languages and their codes available in tesseract.</p>"
   ]
  },
  {
   "cell_type": "markdown",
   "metadata": {},
   "source": [
    "<u>\n",
    "<h4>Extract text from an image : Simple</h4>\n",
    "</u>"
   ]
  },
  {
   "cell_type": "code",
   "execution_count": 8,
   "metadata": {},
   "outputs": [
    {
     "name": "stdout",
     "output_type": "stream",
     "text": [
      ". L\n",
      "\n",
      "oy\n",
      "& DUTCH BANGLA BANK\n",
      "plh Teihl\n",
      "\n",
      "Transaction Sum be .\n",
      "Custe __cQgrff i enterprise\n",
      "ustomer 1 094643\n",
      "\n",
      "Transaction Type : Fund Transfer po- 12731\n",
      "Transaction ID : 102674119\n",
      "\n",
      "Date : December 02, 2021\n",
      "Initiator : 01711486765\n",
      "\n",
      "From Account : 7017512561124\n",
      "Account Name : MD.FAZLERABBI\n",
      "\n",
      "To Account : 1031100022462\n",
      "Account Name : RICECO INTERNATIONAL\n",
      "Amount :27076.0\n",
      "\n",
      "Fee :54.15\n",
      "\n",
      "Generated Time  : 2021/12/02 14:40:55\n",
      "\n",
      "Teller Signature Customer Signature\n",
      "\n",
      "This is a system generated report of DBBL\n",
      "\n"
     ]
    }
   ],
   "source": [
    "image_path = test_image_files[1] # 2, 3, 12, 1, 13, 15\n",
    "path = create_path(image_path)\n",
    "\n",
    "image = Image.open(path)\n",
    "text = pt.image_to_string(image)\n",
    "\n",
    "print(text)\n",
    "#show_image(path)"
   ]
  },
  {
   "cell_type": "markdown",
   "metadata": {},
   "source": [
    "<u>\n",
    "    <h4>Extract text from an image : Specifying a language</h4>\n",
    "</u>\n",
    "<p>Check out <a href='https://github.com/tesseract-ocr/tessdata/tree/3.04.00'>here</a> to download different language data files.</p>"
   ]
  },
  {
   "cell_type": "code",
   "execution_count": 9,
   "metadata": {},
   "outputs": [
    {
     "name": "stdout",
     "output_type": "stream",
     "text": [
      "JUTCH-BANGLA BANK LIMITED\n",
      "A\\CADEMY MR FT-2 CHUA\n",
      "IME TERMINAL 1D\n",
      "2/21 09:34:01 25134094\n",
      "M/S Ami\n",
      "CARD NO # XXXXXKXXXX)\\‘XXXX‘J{LvIQ\n",
      "09)S7Y|\n",
      "\n",
      "TXN NO. 00325472 RESP CODE: O\n",
      "\n",
      "FUNDS TRANSFER\n",
      "\n",
      "FR A/C#: 1351010120022\n",
      "\n",
      "TO A/C#: 1031100022462\n",
      "\n",
      "TXN AMOUNT: TK 52.00 52_}1\"\n",
      "\n",
      "AVAIL BAL : TK. AT\n",
      "\n",
      "Cods 13 .\n",
      "\n",
      "EMV APP ID: F0504442420110\n",
      "THANK YOU FOR USING\n",
      "DBBL NETWORK\n",
      "\n",
      "\n"
     ]
    }
   ],
   "source": [
    "path = create_path(\"1.jpeg\")\n",
    "\n",
    "image = Image.open(path)\n",
    "text = pt.image_to_string(image, lang='eng')\n",
    "\n",
    "print(text)\n",
    "show_image(path)"
   ]
  }
 ],
 "metadata": {
  "interpreter": {
   "hash": "8757c4b27185f2174642071fafc0abffd4e6a2d397f8c90f5fbb36145f02e466"
  },
  "kernelspec": {
   "display_name": "Python 3.8.10 ('.venv': venv)",
   "language": "python",
   "name": "python3"
  },
  "language_info": {
   "codemirror_mode": {
    "name": "ipython",
    "version": 3
   },
   "file_extension": ".py",
   "mimetype": "text/x-python",
   "name": "python",
   "nbconvert_exporter": "python",
   "pygments_lexer": "ipython3",
   "version": "3.8.10"
  },
  "orig_nbformat": 4
 },
 "nbformat": 4,
 "nbformat_minor": 2
}
